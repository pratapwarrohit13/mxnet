{
 "cells": [
  {
   "cell_type": "code",
   "execution_count": 1,
   "id": "a5a07bba",
   "metadata": {},
   "outputs": [],
   "source": [
    "from mxnet import np, npx\n",
    "from mxnet.gluon import nn"
   ]
  },
  {
   "cell_type": "code",
   "execution_count": 2,
   "id": "fc8e331a",
   "metadata": {},
   "outputs": [],
   "source": [
    "npx.set_np()"
   ]
  },
  {
   "cell_type": "code",
   "execution_count": 3,
   "id": "d4de3b37",
   "metadata": {},
   "outputs": [
    {
     "data": {
      "text/plain": [
       "array([[ 0.06240272, -0.03268593,  0.02582653,  0.02254182, -0.03728798,\n",
       "        -0.04253786,  0.00540613, -0.01364186, -0.09915452, -0.02272738],\n",
       "       [ 0.02816677, -0.03341204,  0.03565666,  0.02506382, -0.04136416,\n",
       "        -0.04941845,  0.01738528,  0.01081961, -0.09932579, -0.01176298]])"
      ]
     },
     "execution_count": 3,
     "metadata": {},
     "output_type": "execute_result"
    }
   ],
   "source": [
    "net = nn.Sequential()\n",
    "net.add(nn.Dense(256, activation='relu'))\n",
    "net.add(nn.Dense(10))\n",
    "net.initialize()\n",
    "X = np.random.uniform(size=(2, 20))\n",
    "net(X)"
   ]
  },
  {
   "cell_type": "code",
   "execution_count": 4,
   "id": "7e8059b1",
   "metadata": {},
   "outputs": [],
   "source": [
    "class MLP(nn.Block):\n",
    "    # Declare a layer with model parameters. Here, we declare two\n",
    "    # fully-connected layers\n",
    "    def __init__(self, **kwargs):\n",
    "        # Call the constructor of the `MLP` parent class `Block` to perform\n",
    "        # the necessary initialization. In this way, other function arguments\n",
    "        # can also be specified during class instantiation, such as the model\n",
    "        # parameters, `params` (to be described later)\n",
    "        super().__init__(**kwargs)\n",
    "        self.hidden = nn.Dense(256, activation='relu') # Hidden layer\n",
    "        self.out = nn.Dense(10) # Output layer\n",
    "        # Define the forward propagation of the model, that is, how to return the\n",
    "        # required model output based on the input `X`\n",
    "    def forward(self, X):\n",
    "        return self.out(self.hidden(X))\n"
   ]
  },
  {
   "cell_type": "code",
   "execution_count": 5,
   "id": "97274964",
   "metadata": {},
   "outputs": [
    {
     "data": {
      "text/plain": [
       "array([[-0.03989594, -0.1041471 ,  0.06799038,  0.05245074,  0.02526059,\n",
       "        -0.00640342,  0.04182098, -0.01665319, -0.02067346, -0.07863817],\n",
       "       [-0.03612847, -0.07210436,  0.09159479,  0.07890771,  0.02494172,\n",
       "        -0.01028665,  0.01732428, -0.02843242,  0.03772651, -0.06671704]])"
      ]
     },
     "execution_count": 5,
     "metadata": {},
     "output_type": "execute_result"
    }
   ],
   "source": [
    "net = MLP()\n",
    "net.initialize()\n",
    "net(X)"
   ]
  },
  {
   "cell_type": "markdown",
   "id": "02368310",
   "metadata": {},
   "source": [
    "The Sequential Block"
   ]
  },
  {
   "cell_type": "code",
   "execution_count": 6,
   "id": "9011d944",
   "metadata": {},
   "outputs": [],
   "source": [
    "class MySequential(nn.Block):\n",
    "    def add(self, block):\n",
    "        # Here, `block` is an instance of a `Block` subclass, and we assume\n",
    "        # that it has a unique name. We save it in the member variable\n",
    "        # `_children` of the `Block` class, and its type is OrderedDict. When\n",
    "        # the `MySequential` instance calls the `initialize` function, the\n",
    "        # system automatically initializes all members of `_children`\n",
    "        self._children[block.name] = block\n",
    "    def forward(self, X):\n",
    "        # OrderedDict guarantees that members will be traversed in the order\n",
    "        # they were added\n",
    "        for block in self._children.values():\n",
    "            X = block(X)\n",
    "        return X"
   ]
  },
  {
   "cell_type": "code",
   "execution_count": 7,
   "id": "361c2b9a",
   "metadata": {},
   "outputs": [
    {
     "data": {
      "text/plain": [
       "array([[-0.07645682, -0.01130233,  0.04952145, -0.04651389, -0.04131573,\n",
       "        -0.05884133, -0.0621381 ,  0.01311472, -0.01379425, -0.02514282],\n",
       "       [-0.05124625,  0.00711231, -0.00155935, -0.07555379, -0.06675334,\n",
       "        -0.01762914,  0.00589084,  0.01447191, -0.04330775,  0.03317726]])"
      ]
     },
     "execution_count": 7,
     "metadata": {},
     "output_type": "execute_result"
    }
   ],
   "source": [
    "net = MySequential()\n",
    "net.add(nn.Dense(256, activation='relu'))\n",
    "net.add(nn.Dense(10))\n",
    "net.initialize()\n",
    "net(X)"
   ]
  },
  {
   "cell_type": "markdown",
   "id": "d39acf61",
   "metadata": {},
   "source": [
    "Executing Code in the Forward Propagation Function"
   ]
  },
  {
   "cell_type": "code",
   "execution_count": 8,
   "id": "05a8b559",
   "metadata": {},
   "outputs": [],
   "source": [
    "class FixedHiddenMLP(nn.Block):\n",
    "    def __init__(self, **kwargs):\n",
    "        super().__init__(**kwargs)\n",
    "        # Random weight parameters created with the `get_constant` function\n",
    "        # are not updated during training (i.e., constant parameters)\n",
    "        self.rand_weight = self.params.get_constant('rand_weight', np.random.uniform(size=(20, 20)))\n",
    "        self.dense = nn.Dense(20, activation='relu')\n",
    "    def forward(self, X):\n",
    "        X = self.dense(X)\n",
    "        # Use the created constant parameters, as well as the `relu` and `dot`\n",
    "        # functions\n",
    "        X = npx.relu(np.dot(X, self.rand_weight.data()) + 1)\n",
    "        # Reuse the fully-connected layer. This is equivalent to sharing\n",
    "        # parameters with two fully-connected layers\n",
    "        X = self.dense(X)\n",
    "        # Control flow\n",
    "        while np.abs(X).sum() > 1:\n",
    "            X /= 2\n",
    "        return X.sum()\n"
   ]
  },
  {
   "cell_type": "code",
   "execution_count": 9,
   "id": "3d4f0e3b",
   "metadata": {},
   "outputs": [
    {
     "data": {
      "text/plain": [
       "array(0.52637565)"
      ]
     },
     "execution_count": 9,
     "metadata": {},
     "output_type": "execute_result"
    }
   ],
   "source": [
    "net = FixedHiddenMLP()\n",
    "net.initialize()\n",
    "net(X)\n"
   ]
  },
  {
   "cell_type": "code",
   "execution_count": 10,
   "id": "61f4dd77",
   "metadata": {},
   "outputs": [
    {
     "data": {
      "text/plain": [
       "array(0.97720534)"
      ]
     },
     "execution_count": 10,
     "metadata": {},
     "output_type": "execute_result"
    }
   ],
   "source": [
    "class NestMLP(nn.Block):\n",
    "    def __init__(self, **kwargs):\n",
    "        super().__init__(**kwargs)\n",
    "        self.net = nn.Sequential()\n",
    "        self.net.add(nn.Dense(64, activation='relu'),nn.Dense(32, activation='relu'))\n",
    "        self.dense = nn.Dense(16, activation='relu')\n",
    "    def forward(self, X):\n",
    "        return self.dense(self.net(X))\n",
    "    \n",
    "chimera = nn.Sequential()\n",
    "chimera.add(NestMLP(), nn.Dense(20), FixedHiddenMLP())\n",
    "chimera.initialize()\n",
    "chimera(X)\n"
   ]
  },
  {
   "cell_type": "markdown",
   "id": "d31ba501",
   "metadata": {},
   "source": [
    "Parameter Management"
   ]
  },
  {
   "cell_type": "code",
   "execution_count": 11,
   "id": "ca67f5ae",
   "metadata": {},
   "outputs": [
    {
     "data": {
      "text/plain": [
       "array([[-0.00061528],\n",
       "       [-0.00041872]])"
      ]
     },
     "execution_count": 11,
     "metadata": {},
     "output_type": "execute_result"
    }
   ],
   "source": [
    "from mxnet import init, np, npx\n",
    "from mxnet.gluon import nn\n",
    "npx.set_np()\n",
    "net = nn.Sequential()\n",
    "net.add(nn.Dense(8, activation='relu'))\n",
    "net.add(nn.Dense(1))\n",
    "net.initialize() # Use the default initialization method\n",
    "X = np.random.uniform(size=(2, 4))\n",
    "net(X) "
   ]
  },
  {
   "cell_type": "code",
   "execution_count": 12,
   "id": "e6e556c2",
   "metadata": {},
   "outputs": [
    {
     "name": "stdout",
     "output_type": "stream",
     "text": [
      "dense13_ (\n",
      "  Parameter dense13_weight (shape=(1, 8), dtype=float32)\n",
      "  Parameter dense13_bias (shape=(1,), dtype=float32)\n",
      ")\n"
     ]
    }
   ],
   "source": [
    "print(net[1].params)"
   ]
  },
  {
   "cell_type": "code",
   "execution_count": 13,
   "id": "ad555adb",
   "metadata": {},
   "outputs": [
    {
     "name": "stdout",
     "output_type": "stream",
     "text": [
      "<class 'mxnet.gluon.parameter.Parameter'>\n",
      "Parameter dense13_bias (shape=(1,), dtype=float32)\n",
      "[0.]\n"
     ]
    }
   ],
   "source": [
    "print(type(net[1].bias))\n",
    "print(net[1].bias)\n",
    "print(net[1].bias.data())"
   ]
  },
  {
   "cell_type": "code",
   "execution_count": 14,
   "id": "6642a8a5",
   "metadata": {},
   "outputs": [
    {
     "data": {
      "text/plain": [
       "array([[0., 0., 0., 0., 0., 0., 0., 0.]])"
      ]
     },
     "execution_count": 14,
     "metadata": {},
     "output_type": "execute_result"
    }
   ],
   "source": [
    "net[1].weight.grad()"
   ]
  },
  {
   "cell_type": "code",
   "execution_count": 15,
   "id": "b359dcc6",
   "metadata": {},
   "outputs": [
    {
     "name": "stdout",
     "output_type": "stream",
     "text": [
      "dense12_ (\n",
      "  Parameter dense12_weight (shape=(8, 4), dtype=float32)\n",
      "  Parameter dense12_bias (shape=(8,), dtype=float32)\n",
      ")\n",
      "sequential3_ (\n",
      "  Parameter dense12_weight (shape=(8, 4), dtype=float32)\n",
      "  Parameter dense12_bias (shape=(8,), dtype=float32)\n",
      "  Parameter dense13_weight (shape=(1, 8), dtype=float32)\n",
      "  Parameter dense13_bias (shape=(1,), dtype=float32)\n",
      ")\n"
     ]
    }
   ],
   "source": [
    "print(net[0].collect_params())\n",
    "print(net.collect_params())\n"
   ]
  },
  {
   "cell_type": "markdown",
   "id": "dd173c95",
   "metadata": {},
   "source": [
    "Collecting Parameters from Nested Blocks"
   ]
  },
  {
   "cell_type": "code",
   "execution_count": 17,
   "id": "5b7ab7e4",
   "metadata": {},
   "outputs": [
    {
     "data": {
      "text/plain": [
       "array([[-8.0886596e-11, -1.3496230e-09, -5.5527755e-10, -1.2805073e-09,\n",
       "        -1.0304946e-09,  1.7497598e-09,  1.0153671e-09,  1.7267601e-10,\n",
       "        -9.1138991e-10,  3.9919201e-10],\n",
       "       [ 1.1531965e-09, -7.4176387e-10, -6.1084227e-10, -2.1753395e-10,\n",
       "         2.7838110e-11, -2.9127717e-10, -1.1417124e-09, -6.7512790e-10,\n",
       "        -1.0054486e-09, -6.7114064e-10]])"
      ]
     },
     "execution_count": 17,
     "metadata": {},
     "output_type": "execute_result"
    }
   ],
   "source": [
    "def block1():\n",
    "    net = nn.Sequential()\n",
    "    net.add(nn.Dense(32, activation='relu'))\n",
    "    net.add(nn.Dense(16, activation='relu'))\n",
    "    return net\n",
    "def block2():\n",
    "    net = nn.Sequential()\n",
    "    for _ in range(4):\n",
    "        # Nested here\n",
    "        net.add(block1())\n",
    "    return net\n",
    "\n",
    "rgnet = nn.Sequential()\n",
    "rgnet.add(block2())\n",
    "rgnet.add(nn.Dense(10))\n",
    "rgnet.initialize()\n",
    "rgnet(X)"
   ]
  },
  {
   "cell_type": "code",
   "execution_count": 18,
   "id": "2f7969cd",
   "metadata": {},
   "outputs": [
    {
     "name": "stdout",
     "output_type": "stream",
     "text": [
      "<bound method Block.collect_params of Sequential(\n",
      "  (0): Sequential(\n",
      "    (0): Sequential(\n",
      "      (0): Dense(4 -> 32, Activation(relu))\n",
      "      (1): Dense(32 -> 16, Activation(relu))\n",
      "    )\n",
      "    (1): Sequential(\n",
      "      (0): Dense(16 -> 32, Activation(relu))\n",
      "      (1): Dense(32 -> 16, Activation(relu))\n",
      "    )\n",
      "    (2): Sequential(\n",
      "      (0): Dense(16 -> 32, Activation(relu))\n",
      "      (1): Dense(32 -> 16, Activation(relu))\n",
      "    )\n",
      "    (3): Sequential(\n",
      "      (0): Dense(16 -> 32, Activation(relu))\n",
      "      (1): Dense(32 -> 16, Activation(relu))\n",
      "    )\n",
      "  )\n",
      "  (1): Dense(16 -> 10, linear)\n",
      ")>\n",
      "sequential4_ (\n",
      "  Parameter dense14_weight (shape=(32, 4), dtype=float32)\n",
      "  Parameter dense14_bias (shape=(32,), dtype=float32)\n",
      "  Parameter dense15_weight (shape=(16, 32), dtype=float32)\n",
      "  Parameter dense15_bias (shape=(16,), dtype=float32)\n",
      "  Parameter dense16_weight (shape=(32, 16), dtype=float32)\n",
      "  Parameter dense16_bias (shape=(32,), dtype=float32)\n",
      "  Parameter dense17_weight (shape=(16, 32), dtype=float32)\n",
      "  Parameter dense17_bias (shape=(16,), dtype=float32)\n",
      "  Parameter dense18_weight (shape=(32, 16), dtype=float32)\n",
      "  Parameter dense18_bias (shape=(32,), dtype=float32)\n",
      "  Parameter dense19_weight (shape=(16, 32), dtype=float32)\n",
      "  Parameter dense19_bias (shape=(16,), dtype=float32)\n",
      "  Parameter dense20_weight (shape=(32, 16), dtype=float32)\n",
      "  Parameter dense20_bias (shape=(32,), dtype=float32)\n",
      "  Parameter dense21_weight (shape=(16, 32), dtype=float32)\n",
      "  Parameter dense21_bias (shape=(16,), dtype=float32)\n",
      "  Parameter dense22_weight (shape=(10, 16), dtype=float32)\n",
      "  Parameter dense22_bias (shape=(10,), dtype=float32)\n",
      ")\n"
     ]
    }
   ],
   "source": [
    "print(rgnet.collect_params)\n",
    "print(rgnet.collect_params())\n"
   ]
  },
  {
   "cell_type": "code",
   "execution_count": 19,
   "id": "b9a94506",
   "metadata": {},
   "outputs": [
    {
     "data": {
      "text/plain": [
       "array([0., 0., 0., 0., 0., 0., 0., 0., 0., 0., 0., 0., 0., 0., 0., 0., 0.,\n",
       "       0., 0., 0., 0., 0., 0., 0., 0., 0., 0., 0., 0., 0., 0., 0.])"
      ]
     },
     "execution_count": 19,
     "metadata": {},
     "output_type": "execute_result"
    }
   ],
   "source": [
    "rgnet[0][1][0].bias.data()"
   ]
  },
  {
   "cell_type": "markdown",
   "id": "a40043d9",
   "metadata": {},
   "source": [
    "Parameter Initialization"
   ]
  },
  {
   "cell_type": "code",
   "execution_count": 20,
   "id": "23a1afa8",
   "metadata": {},
   "outputs": [
    {
     "data": {
      "text/plain": [
       "array([-0.00194253,  0.00707577,  0.00459522,  0.00411877])"
      ]
     },
     "execution_count": 20,
     "metadata": {},
     "output_type": "execute_result"
    }
   ],
   "source": [
    "net.initialize(init=init.Normal(sigma=0.01), force_reinit=True)\n",
    "net[0].weight.data()[0]"
   ]
  },
  {
   "cell_type": "code",
   "execution_count": 21,
   "id": "2a652e42",
   "metadata": {},
   "outputs": [
    {
     "data": {
      "text/plain": [
       "array([1., 1., 1., 1.])"
      ]
     },
     "execution_count": 21,
     "metadata": {},
     "output_type": "execute_result"
    }
   ],
   "source": [
    "net.initialize(init=init.Constant(1), force_reinit=True)\n",
    "net[0].weight.data()[0]\n"
   ]
  },
  {
   "cell_type": "code",
   "execution_count": 22,
   "id": "9ad1247f",
   "metadata": {},
   "outputs": [
    {
     "name": "stdout",
     "output_type": "stream",
     "text": [
      "[-0.13226163 -0.42949793  0.03997087 -0.6268525 ]\n",
      "[[42. 42. 42. 42. 42. 42. 42. 42.]]\n"
     ]
    }
   ],
   "source": [
    "net[0].weight.initialize(init=init.Xavier(), force_reinit=True)\n",
    "net[1].initialize(init=init.Constant(42), force_reinit=True)\n",
    "print(net[0].weight.data()[0])\n",
    "print(net[1].weight.data())"
   ]
  },
  {
   "cell_type": "markdown",
   "id": "8f960536",
   "metadata": {},
   "source": [
    "Custom Initialization"
   ]
  },
  {
   "cell_type": "code",
   "execution_count": 23,
   "id": "2994c2c5",
   "metadata": {},
   "outputs": [],
   "source": [
    "class MyInit(init.Initializer):\n",
    "    def _init_weight(self, name, data):\n",
    "        print('Init', name, data.shape)\n",
    "        data[:] = np.random.uniform(-10, 10, data.shape)\n",
    "        data *= np.abs(data) >= 5\n",
    "        net.initialize(MyInit(), force_reinit=True)\n",
    "        net[0].weight.data()[:2]\n"
   ]
  },
  {
   "cell_type": "code",
   "execution_count": 25,
   "id": "6c616501",
   "metadata": {},
   "outputs": [
    {
     "data": {
      "text/plain": [
       "array([42.        ,  0.57050204,  1.0399709 ,  0.3731475 ])"
      ]
     },
     "execution_count": 25,
     "metadata": {},
     "output_type": "execute_result"
    }
   ],
   "source": [
    "net[0].weight.data()[:] += 1\n",
    "net[0].weight.data()[0, 0] = 42\n",
    "net[0].weight.data()[0]"
   ]
  },
  {
   "cell_type": "markdown",
   "id": "d585e75e",
   "metadata": {},
   "source": [
    "Tied Parameters"
   ]
  },
  {
   "cell_type": "code",
   "execution_count": 26,
   "id": "357e5111",
   "metadata": {},
   "outputs": [
    {
     "name": "stdout",
     "output_type": "stream",
     "text": [
      "[ True  True  True  True  True  True  True  True]\n",
      "[ True  True  True  True  True  True  True  True]\n"
     ]
    }
   ],
   "source": [
    "net = nn.Sequential()\n",
    "# We need to give the shared layer a name so that we can refer to its\n",
    "# parameters\n",
    "shared = nn.Dense(8, activation='relu')\n",
    "net.add(nn.Dense(8, activation='relu'), shared,\n",
    "nn.Dense(8, activation='relu', params=shared.params), nn.Dense(10))\n",
    "net.initialize()\n",
    "\n",
    "X = np.random.uniform(size=(2, 20))\n",
    "net(X)\n",
    "# Check whether the parameters are the same\n",
    "print(net[1].weight.data()[0] == net[2].weight.data()[0])\n",
    "net[1].weight.data()[0, 0] = 100\n",
    "# Make sure that they are actually the same object rather than just having the\n",
    "# same value\n",
    "print(net[1].weight.data()[0] == net[2].weight.data()[0])"
   ]
  },
  {
   "cell_type": "markdown",
   "id": "1da727af",
   "metadata": {},
   "source": [
    "Instantiating a Network"
   ]
  },
  {
   "cell_type": "code",
   "execution_count": 27,
   "id": "4ddbc6ec",
   "metadata": {},
   "outputs": [],
   "source": [
    "from mxnet import np, npx\n",
    "from mxnet.gluon import nn\n",
    "npx.set_np()\n",
    "\n",
    "def get_net():\n",
    "    net = nn.Sequential()\n",
    "    net.add(nn.Dense(256, activation='relu'))\n",
    "    net.add(nn.Dense(10))\n",
    "    return net\n",
    "\n",
    "net = get_net()"
   ]
  },
  {
   "cell_type": "code",
   "execution_count": 28,
   "id": "77eeb75e",
   "metadata": {},
   "outputs": [
    {
     "name": "stdout",
     "output_type": "stream",
     "text": [
      "<bound method Block.collect_params of Sequential(\n",
      "  (0): Dense(-1 -> 256, Activation(relu))\n",
      "  (1): Dense(-1 -> 10, linear)\n",
      ")>\n",
      "sequential11_ (\n",
      "  Parameter dense27_weight (shape=(256, -1), dtype=float32)\n",
      "  Parameter dense27_bias (shape=(256,), dtype=float32)\n",
      "  Parameter dense28_weight (shape=(10, -1), dtype=float32)\n",
      "  Parameter dense28_bias (shape=(10,), dtype=float32)\n",
      ")\n"
     ]
    }
   ],
   "source": [
    "print(net.collect_params)\n",
    "print(net.collect_params())"
   ]
  },
  {
   "cell_type": "code",
   "execution_count": 29,
   "id": "44fcdf3c",
   "metadata": {},
   "outputs": [
    {
     "data": {
      "text/plain": [
       "sequential11_ (\n",
       "  Parameter dense27_weight (shape=(256, -1), dtype=float32)\n",
       "  Parameter dense27_bias (shape=(256,), dtype=float32)\n",
       "  Parameter dense28_weight (shape=(10, -1), dtype=float32)\n",
       "  Parameter dense28_bias (shape=(10,), dtype=float32)\n",
       ")"
      ]
     },
     "execution_count": 29,
     "metadata": {},
     "output_type": "execute_result"
    }
   ],
   "source": [
    "net.initialize()\n",
    "net.collect_params()"
   ]
  },
  {
   "cell_type": "code",
   "execution_count": 30,
   "id": "119c6907",
   "metadata": {},
   "outputs": [
    {
     "data": {
      "text/plain": [
       "sequential11_ (\n",
       "  Parameter dense27_weight (shape=(256, 20), dtype=float32)\n",
       "  Parameter dense27_bias (shape=(256,), dtype=float32)\n",
       "  Parameter dense28_weight (shape=(10, 256), dtype=float32)\n",
       "  Parameter dense28_bias (shape=(10,), dtype=float32)\n",
       ")"
      ]
     },
     "execution_count": 30,
     "metadata": {},
     "output_type": "execute_result"
    }
   ],
   "source": [
    "X = np.random.uniform(size=(2, 20))\n",
    "net(X)\n",
    "net.collect_params()"
   ]
  },
  {
   "cell_type": "markdown",
   "id": "cbfc01a6",
   "metadata": {},
   "source": [
    "Layers without Parameters"
   ]
  },
  {
   "cell_type": "code",
   "execution_count": 31,
   "id": "5099f374",
   "metadata": {},
   "outputs": [],
   "source": [
    "from mxnet import np, npx\n",
    "from mxnet.gluon import nn\n",
    "npx.set_np()\n",
    "class CenteredLayer(nn.Block):\n",
    "    def __init__(self, **kwargs):\n",
    "        super().__init__(**kwargs)\n",
    "        \n",
    "    def forward(self, X):\n",
    "        return X - X.mean()"
   ]
  },
  {
   "cell_type": "code",
   "execution_count": 32,
   "id": "f7ed39c1",
   "metadata": {},
   "outputs": [
    {
     "data": {
      "text/plain": [
       "array([-2., -1.,  0.,  1.,  2.])"
      ]
     },
     "execution_count": 32,
     "metadata": {},
     "output_type": "execute_result"
    }
   ],
   "source": [
    "layer = CenteredLayer()\n",
    "layer(np.array([1, 2, 3, 4, 5]))\n"
   ]
  },
  {
   "cell_type": "code",
   "execution_count": 33,
   "id": "5998b766",
   "metadata": {},
   "outputs": [],
   "source": [
    "net = nn.Sequential()\n",
    "net.add(nn.Dense(128), CenteredLayer())\n",
    "net.initialize()\n"
   ]
  },
  {
   "cell_type": "code",
   "execution_count": 34,
   "id": "f5d671fd",
   "metadata": {},
   "outputs": [
    {
     "data": {
      "text/plain": [
       "array(8.6583896e-10)"
      ]
     },
     "execution_count": 34,
     "metadata": {},
     "output_type": "execute_result"
    }
   ],
   "source": [
    "Y = net(np.random.uniform(size=(4, 8)))\n",
    "Y.mean()\n"
   ]
  },
  {
   "cell_type": "markdown",
   "id": "c320bcb0",
   "metadata": {},
   "source": [
    "Layers with Parameters"
   ]
  },
  {
   "cell_type": "code",
   "execution_count": 35,
   "id": "04f40448",
   "metadata": {},
   "outputs": [],
   "source": [
    "class MyDense(nn.Block):\n",
    "    def __init__(self, units, in_units, **kwargs):\n",
    "        super().__init__(**kwargs)\n",
    "        self.weight = self.params.get('weight', shape=(in_units, units))\n",
    "        self.bias = self.params.get('bias', shape=(units,))\n",
    "    def forward(self, x):\n",
    "        linear = np.dot(x, self.weight.data(ctx=x.ctx)) + self.bias.data(ctx=x.ctx)\n",
    "        return npx.relu(linear)"
   ]
  },
  {
   "cell_type": "code",
   "execution_count": 36,
   "id": "b91cedbc",
   "metadata": {},
   "outputs": [
    {
     "data": {
      "text/plain": [
       "mydense0_ (\n",
       "  Parameter mydense0_weight (shape=(5, 3), dtype=<class 'numpy.float32'>)\n",
       "  Parameter mydense0_bias (shape=(3,), dtype=<class 'numpy.float32'>)\n",
       ")"
      ]
     },
     "execution_count": 36,
     "metadata": {},
     "output_type": "execute_result"
    }
   ],
   "source": [
    "dense = MyDense(units=3, in_units=5)\n",
    "dense.params"
   ]
  },
  {
   "cell_type": "code",
   "execution_count": 37,
   "id": "0f21a1c6",
   "metadata": {},
   "outputs": [
    {
     "data": {
      "text/plain": [
       "array([[0.        , 0.01381929, 0.09430309],\n",
       "       [0.00505158, 0.        , 0.12506852]])"
      ]
     },
     "execution_count": 37,
     "metadata": {},
     "output_type": "execute_result"
    }
   ],
   "source": [
    "dense.initialize()\n",
    "dense(np.random.uniform(size=(2, 5)))\n"
   ]
  },
  {
   "cell_type": "code",
   "execution_count": 38,
   "id": "b641a08a",
   "metadata": {},
   "outputs": [
    {
     "data": {
      "text/plain": [
       "array([[0.],\n",
       "       [0.]])"
      ]
     },
     "execution_count": 38,
     "metadata": {},
     "output_type": "execute_result"
    }
   ],
   "source": [
    "net = nn.Sequential()\n",
    "net.add(MyDense(8, in_units=64), MyDense(1, in_units=8))\n",
    "net.initialize()\n",
    "net(np.random.uniform(size=(2, 64)))\n"
   ]
  },
  {
   "cell_type": "markdown",
   "id": "fff552a5",
   "metadata": {},
   "source": [
    "Loading and Saving Tensors"
   ]
  },
  {
   "cell_type": "code",
   "execution_count": 40,
   "id": "96a7144b",
   "metadata": {},
   "outputs": [],
   "source": [
    "from mxnet.gluon import nn\n",
    "\n",
    "npx.set_np()\n",
    "\n",
    "x = np.arange(4)\n",
    "npx.save('x-file', x)"
   ]
  },
  {
   "cell_type": "code",
   "execution_count": 41,
   "id": "3e1bf8af",
   "metadata": {},
   "outputs": [
    {
     "data": {
      "text/plain": [
       "[array([0., 1., 2., 3.])]"
      ]
     },
     "execution_count": 41,
     "metadata": {},
     "output_type": "execute_result"
    }
   ],
   "source": [
    "x2 = npx.load('x-file')\n",
    "x2"
   ]
  },
  {
   "cell_type": "code",
   "execution_count": 42,
   "id": "f7d34538",
   "metadata": {},
   "outputs": [
    {
     "data": {
      "text/plain": [
       "(array([0., 1., 2., 3.]), array([0., 0., 0., 0.]))"
      ]
     },
     "execution_count": 42,
     "metadata": {},
     "output_type": "execute_result"
    }
   ],
   "source": [
    "y = np.zeros(4)\n",
    "npx.save('x-files', [x, y])\n",
    "x2, y2 = npx.load('x-files')\n",
    "(x2, y2)"
   ]
  },
  {
   "cell_type": "code",
   "execution_count": 43,
   "id": "04135cd6",
   "metadata": {},
   "outputs": [
    {
     "data": {
      "text/plain": [
       "{'x': array([0., 1., 2., 3.]), 'y': array([0., 0., 0., 0.])}"
      ]
     },
     "execution_count": 43,
     "metadata": {},
     "output_type": "execute_result"
    }
   ],
   "source": [
    "mydict = {'x': x, 'y': y}\n",
    "npx.save('mydict', mydict)\n",
    "mydict2 = npx.load('mydict')\n",
    "mydict2"
   ]
  },
  {
   "cell_type": "markdown",
   "id": "d4e94cd7",
   "metadata": {},
   "source": [
    "Loading and Saving Model Parameters"
   ]
  },
  {
   "cell_type": "code",
   "execution_count": 44,
   "id": "ebff2953",
   "metadata": {},
   "outputs": [],
   "source": [
    "class MLP(nn.Block):\n",
    "    def __init__(self, **kwargs):\n",
    "        super(MLP, self).__init__(**kwargs)\n",
    "        self.hidden = nn.Dense(256, activation='relu')\n",
    "        self.output = nn.Dense(10)\n",
    "    def forward(self, x):\n",
    "        return self.output(self.hidden(x))\n",
    "    \n",
    "net = MLP()\n",
    "net.initialize()\n",
    "X = np.random.uniform(size=(2, 20))\n",
    "Y = net(X)\n"
   ]
  },
  {
   "cell_type": "code",
   "execution_count": 45,
   "id": "12e2a756",
   "metadata": {},
   "outputs": [],
   "source": [
    "net.save_parameters('mlp.params')"
   ]
  },
  {
   "cell_type": "code",
   "execution_count": 46,
   "id": "51e11816",
   "metadata": {},
   "outputs": [],
   "source": [
    "clone = MLP()\n",
    "clone.load_parameters('mlp.params')\n"
   ]
  },
  {
   "cell_type": "code",
   "execution_count": 47,
   "id": "da348804",
   "metadata": {},
   "outputs": [
    {
     "data": {
      "text/plain": [
       "array([[ True,  True,  True,  True,  True,  True,  True,  True,  True,\n",
       "         True],\n",
       "       [ True,  True,  True,  True,  True,  True,  True,  True,  True,\n",
       "         True]])"
      ]
     },
     "execution_count": 47,
     "metadata": {},
     "output_type": "execute_result"
    }
   ],
   "source": [
    "Y_clone = clone(X)\n",
    "Y_clone == Y"
   ]
  },
  {
   "cell_type": "code",
   "execution_count": null,
   "id": "9613acd4",
   "metadata": {},
   "outputs": [],
   "source": []
  }
 ],
 "metadata": {
  "kernelspec": {
   "display_name": "Python 3",
   "language": "python",
   "name": "python3"
  },
  "language_info": {
   "codemirror_mode": {
    "name": "ipython",
    "version": 3
   },
   "file_extension": ".py",
   "mimetype": "text/x-python",
   "name": "python",
   "nbconvert_exporter": "python",
   "pygments_lexer": "ipython3",
   "version": "3.8.10"
  }
 },
 "nbformat": 4,
 "nbformat_minor": 5
}
